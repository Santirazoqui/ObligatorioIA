{
 "cells": [
  {
   "cell_type": "code",
   "execution_count": 11,
   "id": "086e05c2",
   "metadata": {},
   "outputs": [],
   "source": [
    "from connect_four_env import ConnectFourBaseEnv\n",
    "from agent import InputAgent\n",
    "from MiniMaxAgent import MiniMaxAgent\n",
    "from EspectiMaxAgent import EspectiMaxAgent\n",
    "from play import *\n",
    "import wandb\n"
   ]
  },
  {
   "cell_type": "code",
   "execution_count": 12,
   "id": "6867ae7a",
   "metadata": {},
   "outputs": [
    {
     "data": {
      "text/plain": [
       "Discrete(7)"
      ]
     },
     "execution_count": 12,
     "metadata": {},
     "output_type": "execute_result"
    }
   ],
   "source": [
    "env = ConnectFourBaseEnv()\n",
    "env.action_space"
   ]
  },
  {
   "cell_type": "code",
   "execution_count": 13,
   "id": "202d9d57",
   "metadata": {},
   "outputs": [],
   "source": [
    "minimax_depth = espectimax_depth = 3"
   ]
  },
  {
   "cell_type": "code",
   "execution_count": 14,
   "id": "fd9d7ee8",
   "metadata": {},
   "outputs": [],
   "source": [
    "input_agent = InputAgent()\n",
    "minimax_agent = MiniMaxAgent(minimax_depth)\n",
    "espectimax_agent = EspectiMaxAgent(espectimax_depth)"
   ]
  },
  {
   "cell_type": "code",
   "execution_count": 15,
   "id": "7d3144ab",
   "metadata": {},
   "outputs": [],
   "source": [
    "total_test_runs = 100"
   ]
  },
  {
   "cell_type": "code",
   "execution_count": 16,
   "id": "798deb6a",
   "metadata": {},
   "outputs": [
    {
     "data": {
      "text/html": [
       "wandb version 0.15.5 is available!  To upgrade, please run:\n",
       " $ pip install wandb --upgrade"
      ],
      "text/plain": [
       "<IPython.core.display.HTML object>"
      ]
     },
     "metadata": {},
     "output_type": "display_data"
    },
    {
     "data": {
      "text/html": [
       "Tracking run with wandb version 0.15.3"
      ],
      "text/plain": [
       "<IPython.core.display.HTML object>"
      ]
     },
     "metadata": {},
     "output_type": "display_data"
    },
    {
     "data": {
      "text/html": [
       "Run data is saved locally in <code>c:\\Users\\Irazo\\OneDrive\\Desktop\\Ira\\Facultad\\Semestre 7\\Inteligencia Artificial\\Obligatorio\\ConnectFour\\wandb\\run-20230709_112455-ffxe2473</code>"
      ],
      "text/plain": [
       "<IPython.core.display.HTML object>"
      ]
     },
     "metadata": {},
     "output_type": "display_data"
    },
    {
     "data": {
      "text/html": [
       "Syncing run <strong><a href='https://wandb.ai/santiago-irazoqui/ConnectFour/runs/ffxe2473' target=\"_blank\">soft-dream-9</a></strong> to <a href='https://wandb.ai/santiago-irazoqui/ConnectFour' target=\"_blank\">Weights & Biases</a> (<a href='https://wandb.me/run' target=\"_blank\">docs</a>)<br/>"
      ],
      "text/plain": [
       "<IPython.core.display.HTML object>"
      ]
     },
     "metadata": {},
     "output_type": "display_data"
    },
    {
     "data": {
      "text/html": [
       " View project at <a href='https://wandb.ai/santiago-irazoqui/ConnectFour' target=\"_blank\">https://wandb.ai/santiago-irazoqui/ConnectFour</a>"
      ],
      "text/plain": [
       "<IPython.core.display.HTML object>"
      ]
     },
     "metadata": {},
     "output_type": "display_data"
    },
    {
     "data": {
      "text/html": [
       " View run at <a href='https://wandb.ai/santiago-irazoqui/ConnectFour/runs/ffxe2473' target=\"_blank\">https://wandb.ai/santiago-irazoqui/ConnectFour/runs/ffxe2473</a>"
      ],
      "text/plain": [
       "<IPython.core.display.HTML object>"
      ]
     },
     "metadata": {},
     "output_type": "display_data"
    },
    {
     "data": {
      "text/html": [
       "<button onClick=\"this.nextSibling.style.display='block';this.style.display='none';\">Display W&B run</button><iframe src='https://wandb.ai/santiago-irazoqui/ConnectFour/runs/ffxe2473?jupyter=true' style='border:none;width:100%;height:420px;display:none;'></iframe>"
      ],
      "text/plain": [
       "<wandb.sdk.wandb_run.Run at 0x1a9425bee30>"
      ]
     },
     "execution_count": 16,
     "metadata": {},
     "output_type": "execute_result"
    }
   ],
   "source": [
    "# start a new wandb run to track this script\n",
    "wandb.init(\n",
    "    # Dejar solo un proyecto\n",
    "    project=\"ConnectFour\",\n",
    "    \n",
    "    # track hyperparameters and run metadata\n",
    "    config={\n",
    "        \"total test runs\": total_test_runs,\n",
    "        \"minimax depth\": minimax_depth\n",
    "    }\n",
    ")"
   ]
  },
  {
   "cell_type": "code",
   "execution_count": 17,
   "id": "6ffa1695",
   "metadata": {},
   "outputs": [],
   "source": [
    "runs_won_player_first = 0\n",
    "for i in range(total_test_runs):\n",
    "    play_vs_loaded_agent_no_render(env, agent=minimax_agent)\n",
    "    if (env._grid._winner == minimax_agent.player):\n",
    "        runs_won_player_first = runs_won_player_first + 1\n",
    "        \n",
    "print(\"runs won: \" + str(runs_won_player_first))\n",
    "average_player_first = runs_won_player_first / total_test_runs\n",
    "print(\"average: \"  + str(average_player_first))\n"
   ]
  },
  {
   "cell_type": "code",
   "execution_count": null,
   "id": "0e7d0a37",
   "metadata": {},
   "outputs": [
    {
     "name": "stdout",
     "output_type": "stream",
     "text": [
      "10\n",
      "20\n",
      "30\n",
      "40\n",
      "50\n",
      "60\n",
      "70\n",
      "80\n",
      "90\n",
      "runs won: 100\n",
      "average: 1.0\n"
     ]
    }
   ],
   "source": [
    "runs_won_opponent_first = 0\n",
    "for i in range(total_test_runs):\n",
    "    play_vs_other_agent_no_render(env, agent1=load_enemy_agent(), agent2=minimax_agent)\n",
    "    if (env._grid._winner == minimax_agent.player):\n",
    "        runs_won_opponent_first = runs_won_opponent_first + 1\n",
    "        \n",
    "print(\"runs won: \" + str(runs_won_opponent_first))\n",
    "average_opponent_first = runs_won_opponent_first / total_test_runs\n",
    "print(\"average: \"  + str(average_opponent_first))"
   ]
  },
  {
   "cell_type": "code",
   "execution_count": 7,
   "id": "88a92531",
   "metadata": {},
   "outputs": [
    {
     "name": "stdout",
     "output_type": "stream",
     "text": [
      "runs won: 100\n",
      "average: 1.0\n"
     ]
    }
   ],
   "source": [
    "runs_won_espectimax_first = 0\n",
    "for i in range(total_test_runs):\n",
    "    play_vs_other_agent_no_render(env, agent1=espectimax_agent, agent2=minimax_agent)\n",
    "    if (env._grid._winner == minimax_agent.player):\n",
    "        runs_won_espectimax_first = runs_won_espectimax_first + 1\n",
    "        \n",
    "print(\"runs won: \" + str(runs_won_espectimax_first))\n",
    "average_espectimax_first = runs_won_espectimax_first / total_test_runs\n",
    "print(\"average: \"  + str(average_espectimax_first))"
   ]
  },
  {
   "cell_type": "code",
   "execution_count": 8,
   "id": "297d0b6e",
   "metadata": {},
   "outputs": [
    {
     "name": "stdout",
     "output_type": "stream",
     "text": [
      "runs won: 100\n",
      "average: 1.0\n"
     ]
    }
   ],
   "source": [
    "runs_won_minimax_first = 0\n",
    "for i in range(total_test_runs):\n",
    "    play_vs_other_agent_no_render(env, agent1=minimax_agent, agent2=espectimax_agent)\n",
    "    if (env._grid._winner == minimax_agent.player):\n",
    "        runs_won_minimax_first = runs_won_minimax_first + 1\n",
    "        \n",
    "print(\"runs won: \" + str(runs_won_minimax_first))\n",
    "average_minimax_first = runs_won_minimax_first / total_test_runs\n",
    "print(\"average: \"  + str(average_minimax_first))"
   ]
  },
  {
   "cell_type": "code",
   "execution_count": 9,
   "id": "e8cff21e",
   "metadata": {},
   "outputs": [],
   "source": [
    "wandb.log({\n",
    "    \"Runs per test\": total_test_runs,\n",
    "    \"Runs won espectimax\": runs_won_espectimax_first + total_test_runs - runs_won_minimax_first, \n",
    "    \"Runs won minimax\": runs_won_minimax_first + total_test_runs - runs_won_espectimax_first, \n",
    "    \"Average - espectimax first\": average_espectimax_first, \n",
    "    \"Average - minimax first\": average_minimax_first\n",
    "})"
   ]
  },
  {
   "cell_type": "code",
   "execution_count": 10,
   "id": "7342fc69",
   "metadata": {},
   "outputs": [
    {
     "data": {
      "text/html": [
       "Waiting for W&B process to finish... <strong style=\"color:green\">(success).</strong>"
      ],
      "text/plain": [
       "<IPython.core.display.HTML object>"
      ]
     },
     "metadata": {},
     "output_type": "display_data"
    },
    {
     "data": {
      "text/html": [
       "<style>\n",
       "    table.wandb td:nth-child(1) { padding: 0 10px; text-align: left ; width: auto;} td:nth-child(2) {text-align: left ; width: 100%}\n",
       "    .wandb-row { display: flex; flex-direction: row; flex-wrap: wrap; justify-content: flex-start; width: 100% }\n",
       "    .wandb-col { display: flex; flex-direction: column; flex-basis: 100%; flex: 1; padding: 10px; }\n",
       "    </style>\n",
       "<div class=\"wandb-row\"><div class=\"wandb-col\"><h3>Run history:</h3><br/><table class=\"wandb\"><tr><td>Average - espectimax first</td><td>▁</td></tr><tr><td>Average - minimax first</td><td>▁</td></tr><tr><td>Runs per test</td><td>▁</td></tr><tr><td>Runs won espectimax</td><td>▁</td></tr><tr><td>Runs won minimax</td><td>▁</td></tr></table><br/></div><div class=\"wandb-col\"><h3>Run summary:</h3><br/><table class=\"wandb\"><tr><td>Average - espectimax first</td><td>1.0</td></tr><tr><td>Average - minimax first</td><td>1.0</td></tr><tr><td>Runs per test</td><td>100</td></tr><tr><td>Runs won espectimax</td><td>100</td></tr><tr><td>Runs won minimax</td><td>100</td></tr></table><br/></div></div>"
      ],
      "text/plain": [
       "<IPython.core.display.HTML object>"
      ]
     },
     "metadata": {},
     "output_type": "display_data"
    },
    {
     "data": {
      "text/html": [
       " View run <strong style=\"color:#cdcd00\">fresh-sponge-8</strong> at: <a href='https://wandb.ai/santiago-irazoqui/ConnectFour/runs/vnxk8wna' target=\"_blank\">https://wandb.ai/santiago-irazoqui/ConnectFour/runs/vnxk8wna</a><br/>Synced 5 W&B file(s), 0 media file(s), 0 artifact file(s) and 0 other file(s)"
      ],
      "text/plain": [
       "<IPython.core.display.HTML object>"
      ]
     },
     "metadata": {},
     "output_type": "display_data"
    },
    {
     "data": {
      "text/html": [
       "Find logs at: <code>.\\wandb\\run-20230709_004803-vnxk8wna\\logs</code>"
      ],
      "text/plain": [
       "<IPython.core.display.HTML object>"
      ]
     },
     "metadata": {},
     "output_type": "display_data"
    }
   ],
   "source": [
    "wandb.finish()"
   ]
  },
  {
   "cell_type": "code",
   "execution_count": 14,
   "id": "f8226442",
   "metadata": {},
   "outputs": [
    {
     "name": "stdout",
     "output_type": "stream",
     "text": [
      "Player 2 WON!!!\n"
     ]
    }
   ],
   "source": [
    "play_vs_loaded_agent_no_render(env, agent=minimax_agent)\n",
    "winner = env._grid.winner\n",
    "final_msg = \"Player \" + str(winner) + \" WON!!!\" if winner != 0 else \"It's a tie!\" \n",
    "print(final_msg)"
   ]
  },
  {
   "cell_type": "code",
   "execution_count": null,
   "id": "1e9fa2da",
   "metadata": {},
   "outputs": [],
   "source": [
    "play_vs_loaded_agent(env, agent=espectimax_agent)"
   ]
  },
  {
   "cell_type": "code",
   "execution_count": null,
   "id": "50013fbb",
   "metadata": {},
   "outputs": [],
   "source": [
    "play_vs_other_agent(env, agent1=load_enemy_agent(), agent2=espectimax_agent)\n",
    "winner = env._grid.winner\n",
    "final_msg = \"Player \" + str(winner) + \" WON!!!\" if winner != 0 else \"It's a tie!\" \n",
    "print(final_msg)"
   ]
  },
  {
   "cell_type": "code",
   "execution_count": 5,
   "id": "2acf54f4",
   "metadata": {},
   "outputs": [
    {
     "name": "stdout",
     "output_type": "stream",
     "text": [
      "   0   1   2   3   4   5   6  \n",
      " |   |   |   |   |   |   |   |\n",
      " |   |   |   |   |   |   |   |\n",
      " |   |   |   |   |   |   |   |\n",
      " |   |   |   |   |   |   |   |\n",
      " |   |   |   |   |   |   |   |\n",
      " |   |   |   |   |   |   |   |\n",
      "-------------------------------\n",
      "   0   1   2   3   4   5   6  \n",
      " |   |   |   |   |   |   |   |\n",
      " |   |   |   |   |   |   |   |\n",
      " |   |   |   |   |   |   |   |\n",
      " |   |   |   |   |   |   |   |\n",
      " |   |   |   |   |   |   |   |\n",
      " |   |   |   | O |   |   |   |\n",
      "-------------------------------\n",
      "   0   1   2   3   4   5   6  \n",
      " |   |   |   |   |   |   |   |\n",
      " |   |   |   |   |   |   |   |\n",
      " |   |   |   |   |   |   |   |\n",
      " |   |   |   |   |   |   |   |\n",
      " |   |   |   |   |   |   |   |\n",
      " |   |   | X | O |   |   |   |\n",
      "-------------------------------\n",
      "   0   1   2   3   4   5   6  \n",
      " |   |   |   |   |   |   |   |\n",
      " |   |   |   |   |   |   |   |\n",
      " |   |   |   |   |   |   |   |\n",
      " |   |   |   |   |   |   |   |\n",
      " |   |   |   |   |   |   |   |\n",
      " |   | O | O | O |   |   |   |\n",
      "-------------------------------\n",
      "   0   1   2   3   4   5   6  \n",
      " |   |   |   |   |   |   |   |\n",
      " |   |   |   |   |   |   |   |\n",
      " |   |   |   |   |   |   |   |\n",
      " |   |   |   |   |   |   |   |\n",
      " |   |   |   |   |   |   |   |\n",
      " | X | O | O | O |   |   |   |\n",
      "-------------------------------\n",
      "   0   1   2   3   4   5   6  \n",
      " |   |   |   |   |   |   |   |\n",
      " |   |   |   |   |   |   |   |\n",
      " |   |   |   |   |   |   |   |\n",
      " |   |   |   |   |   |   |   |\n",
      " | O |   |   |   |   |   |   |\n",
      " | X | O | O | O |   |   |   |\n",
      "-------------------------------\n",
      "   0   1   2   3   4   5   6  \n",
      " |   |   |   |   |   |   |   |\n",
      " |   |   |   |   |   |   |   |\n",
      " |   |   |   |   |   |   |   |\n",
      " | X |   |   |   |   |   |   |\n",
      " | O |   |   |   |   |   |   |\n",
      " | X | O | O | O |   |   |   |\n",
      "-------------------------------\n",
      "   0   1   2   3   4   5   6  \n",
      " |   |   |   |   |   |   |   |\n",
      " |   |   |   |   |   |   |   |\n",
      " | O |   |   |   |   |   |   |\n",
      " | X |   |   |   |   |   |   |\n",
      " | O |   |   |   |   |   |   |\n",
      " | X | O | O | O |   |   |   |\n",
      "-------------------------------\n",
      "   0   1   2   3   4   5   6  \n",
      " |   |   |   |   |   |   |   |\n",
      " | X |   |   |   |   |   |   |\n",
      " | O |   |   |   |   |   |   |\n",
      " | X |   |   |   |   |   |   |\n",
      " | O |   |   |   |   |   |   |\n",
      " | X | O | O | O |   |   |   |\n",
      "-------------------------------\n",
      "   0   1   2   3   4   5   6  \n",
      " |   |   |   |   |   |   |   |\n",
      " | X |   |   |   |   |   |   |\n",
      " | O |   |   |   |   |   |   |\n",
      " | X |   |   |   |   |   |   |\n",
      " | O | O |   |   |   |   |   |\n",
      " | X | O | O | O |   |   |   |\n",
      "-------------------------------\n",
      "   0   1   2   3   4   5   6  \n",
      " | X |   |   |   |   |   |   |\n",
      " | X |   |   |   |   |   |   |\n",
      " | O |   |   |   |   |   |   |\n",
      " | X |   |   |   |   |   |   |\n",
      " | O | O |   |   |   |   |   |\n",
      " | X | O | O | O |   |   |   |\n",
      "-------------------------------\n",
      "   0   1   2   3   4   5   6  \n",
      " | X |   |   |   |   |   |   |\n",
      " | X |   |   |   |   |   |   |\n",
      " | O |   |   |   |   |   |   |\n",
      " | X |   |   |   |   |   |   |\n",
      " | O | O |   |   |   |   |   |\n",
      " | X | O | O | O | O |   |   |\n",
      "-------------------------------\n",
      "   0   1   2   3   4   5   6  \n",
      " | X |   |   |   |   |   |   |\n",
      " | X |   |   |   |   |   |   |\n",
      " | O |   |   |   |   |   |   |\n",
      " | X |   |   |   |   |   |   |\n",
      " | O | O |   |   |   |   |   |\n",
      " | X | O | O | O | O |   |   |\n",
      "-------------------------------\n",
      "Player 1 WON!!!\n",
      "Player 1 WON!!!\n"
     ]
    }
   ],
   "source": [
    "play_vs_other_agent(env, agent1=espectimax_agent, agent2=minimax_agent)\n",
    "winner = env._grid.winner\n",
    "final_msg = \"Player \" + str(winner) + \" WON!!!\" if winner != 0 else \"It's a tie!\" \n",
    "print(final_msg)"
   ]
  }
 ],
 "metadata": {
  "kernelspec": {
   "display_name": "Python 3 (ipykernel)",
   "language": "python",
   "name": "python3"
  },
  "language_info": {
   "codemirror_mode": {
    "name": "ipython",
    "version": 3
   },
   "file_extension": ".py",
   "mimetype": "text/x-python",
   "name": "python",
   "nbconvert_exporter": "python",
   "pygments_lexer": "ipython3",
   "version": "3.10.6"
  }
 },
 "nbformat": 4,
 "nbformat_minor": 5
}
