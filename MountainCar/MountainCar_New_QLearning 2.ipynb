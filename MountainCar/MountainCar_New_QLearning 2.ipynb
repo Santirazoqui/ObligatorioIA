{
 "cells": [
  {
   "cell_type": "code",
   "execution_count": 1,
   "metadata": {},
   "outputs": [],
   "source": [
    "import wandb\n",
    "import pickle\n",
    "import numpy as np\n",
    "from MountainCarEnv import MountainCarEnv\n",
    "from QLearning import QLearning"
   ]
  },
  {
   "cell_type": "code",
   "execution_count": 2,
   "metadata": {},
   "outputs": [],
   "source": [
    "qLearningCar = QLearning(\"rgb_array\")"
   ]
  },
  {
   "cell_type": "code",
   "execution_count": 3,
   "metadata": {},
   "outputs": [],
   "source": [
    "all_iterations = []\n",
    "all_alphas = []\n",
    "all_epsilons = []\n",
    "all_gammas = []"
   ]
  },
  {
   "cell_type": "code",
   "execution_count": 4,
   "metadata": {},
   "outputs": [],
   "source": [
    "iterations = 10000\n",
    "all_iterations.append(iterations)\n",
    "\n",
    "alpha = 0.1 #learning_rate: variacion permitida\n",
    "all_alphas.append(alpha)\n",
    "\n",
    "epsilon = 1 #exploration_rate:  más grande mas exploracion\n",
    "all_epsilons.append(epsilon)\n",
    "\n",
    "gamma = 0.99  #discount_factor: futuro - ¿¿¿learning rate???? - mas bajo mas greedy\n",
    "all_gammas.append(gamma)"
   ]
  },
  {
   "cell_type": "code",
   "execution_count": 5,
   "metadata": {},
   "outputs": [],
   "source": [
    "max_exploration_rate = 1.0\n",
    "min_exploration_rate = 0.01\n",
    "exploration_decay_rate = 0.001\n",
    "min_eps_before_decay = 1000\n",
    "initial_alpha = 0.9\n",
    "final_alpha = 0.1"
   ]
  },
  {
   "cell_type": "code",
   "execution_count": 6,
   "metadata": {},
   "outputs": [
    {
     "name": "stdout",
     "output_type": "stream",
     "text": [
      "[1]\n",
      "[10000]\n"
     ]
    }
   ],
   "source": [
    "print(all_epsilons)\n",
    "print(all_iterations)"
   ]
  },
  {
   "cell_type": "code",
   "execution_count": 6,
   "metadata": {},
   "outputs": [],
   "source": [
    "divPos = qLearningCar.env.observation_space.shape[0] #2\n",
    "divVel = 10"
   ]
  },
  {
   "cell_type": "code",
   "execution_count": 7,
   "metadata": {},
   "outputs": [
    {
     "name": "stderr",
     "output_type": "stream",
     "text": [
      "Failed to detect the name of this notebook, you can set it manually with the WANDB_NOTEBOOK_NAME environment variable to enable code saving.\n",
      "\u001b[34m\u001b[1mwandb\u001b[0m: Currently logged in as: \u001b[33mirazoqui-santi\u001b[0m (\u001b[33msantiago-irazoqui\u001b[0m). Use \u001b[1m`wandb login --relogin`\u001b[0m to force relogin\n"
     ]
    },
    {
     "data": {
      "text/html": [
       "wandb version 0.15.5 is available!  To upgrade, please run:\n",
       " $ pip install wandb --upgrade"
      ],
      "text/plain": [
       "<IPython.core.display.HTML object>"
      ]
     },
     "metadata": {},
     "output_type": "display_data"
    },
    {
     "data": {
      "text/html": [
       "Tracking run with wandb version 0.15.3"
      ],
      "text/plain": [
       "<IPython.core.display.HTML object>"
      ]
     },
     "metadata": {},
     "output_type": "display_data"
    },
    {
     "data": {
      "text/html": [
       "Run data is saved locally in <code>c:\\Users\\Irazo\\OneDrive\\Desktop\\Ira\\Facultad\\Semestre 7\\Inteligencia Artificial\\Obligatorio\\MountainCar\\wandb\\run-20230710_014643-n4dmwfcp</code>"
      ],
      "text/plain": [
       "<IPython.core.display.HTML object>"
      ]
     },
     "metadata": {},
     "output_type": "display_data"
    },
    {
     "data": {
      "text/html": [
       "Syncing run <strong><a href='https://wandb.ai/santiago-irazoqui/MountainCar/runs/n4dmwfcp' target=\"_blank\">sparkling-fire-25</a></strong> to <a href='https://wandb.ai/santiago-irazoqui/MountainCar' target=\"_blank\">Weights & Biases</a> (<a href='https://wandb.me/run' target=\"_blank\">docs</a>)<br/>"
      ],
      "text/plain": [
       "<IPython.core.display.HTML object>"
      ]
     },
     "metadata": {},
     "output_type": "display_data"
    },
    {
     "data": {
      "text/html": [
       " View project at <a href='https://wandb.ai/santiago-irazoqui/MountainCar' target=\"_blank\">https://wandb.ai/santiago-irazoqui/MountainCar</a>"
      ],
      "text/plain": [
       "<IPython.core.display.HTML object>"
      ]
     },
     "metadata": {},
     "output_type": "display_data"
    },
    {
     "data": {
      "text/html": [
       " View run at <a href='https://wandb.ai/santiago-irazoqui/MountainCar/runs/n4dmwfcp' target=\"_blank\">https://wandb.ai/santiago-irazoqui/MountainCar/runs/n4dmwfcp</a>"
      ],
      "text/plain": [
       "<IPython.core.display.HTML object>"
      ]
     },
     "metadata": {},
     "output_type": "display_data"
    },
    {
     "data": {
      "text/html": [
       "<button onClick=\"this.nextSibling.style.display='block';this.style.display='none';\">Display W&B run</button><iframe src='https://wandb.ai/santiago-irazoqui/MountainCar/runs/n4dmwfcp?jupyter=true' style='border:none;width:100%;height:420px;display:none;'></iframe>"
      ],
      "text/plain": [
       "<wandb.sdk.wandb_run.Run at 0x1c89e972c80>"
      ]
     },
     "execution_count": 7,
     "metadata": {},
     "output_type": "execute_result"
    }
   ],
   "source": [
    "# start a new wandb run to track this script\n",
    "wandb.init(\n",
    "    # Dejar solo un proyecto\n",
    "    project=\"MountainCar\",\n",
    "    # track hyperparameters and run metadata\n",
    "    config={\n",
    "        \"initial_alpha\": alpha,\n",
    "        \"initial_epsilon\": epsilon,\n",
    "        \"initial_gamma\": gamma,\n",
    "        \"Discretizacion_Pos\": divPos,\n",
    "        \"Discretizacion_Vel\": divVel,\n",
    "        \"Min eps before decay epsilon\": min_eps_before_decay,\n",
    "        #\"max_exploration_rate\": max_exploration_rate,\n",
    "        #\"max_exploration_rate\": min_exploration_rate,\n",
    "        #\"max_exploration_rate\": exploration_decay_rate\n",
    "    }\n",
    ")"
   ]
  },
  {
   "cell_type": "code",
   "execution_count": 12,
   "metadata": {},
   "outputs": [],
   "source": [
    "#qLearningCar.discretizar(divPos, divVel) #pasar variables de discretizacion desde ipynb"
   ]
  },
  {
   "cell_type": "code",
   "execution_count": 56,
   "metadata": {},
   "outputs": [],
   "source": [
    "# qLearningCar.qLearning_2(iterations, \n",
    "#                     alpha, \n",
    "#                     gamma, \n",
    "#                     epsilon, \n",
    "#                     max_exploration_rate, \n",
    "#                     min_exploration_rate,\n",
    "#                     exploration_decay_rate)\n",
    "# Q = qLearningCar.Q"
   ]
  },
  {
   "cell_type": "code",
   "execution_count": 9,
   "metadata": {},
   "outputs": [],
   "source": [
    "pickle_in = open(\"Pickles\\Q_auto_-170-Pos_2_Vel_10.pkl\",\"rb\")\n",
    "Old_Q = pickle.load(pickle_in)"
   ]
  },
  {
   "cell_type": "code",
   "execution_count": 14,
   "metadata": {},
   "outputs": [],
   "source": [
    "#qLearningCar.setQ(Old_Q)"
   ]
  },
  {
   "cell_type": "code",
   "execution_count": 10,
   "metadata": {},
   "outputs": [],
   "source": [
    "#Q, initial_state_Q_list, epsilon_decay_list = qLearningCar.qLearning_bajar_epsilon_1(iterations, alpha, epsilon, gamma)"
   ]
  },
  {
   "cell_type": "code",
   "execution_count": 15,
   "metadata": {},
   "outputs": [],
   "source": [
    "Q, initial_state_Q_list, epsilon_decay_list = qLearningCar.qLearning_decay_learning_rate_2(iterations, initial_alpha, final_alpha, epsilon, gamma, min_eps_before_decay)"
   ]
  },
  {
   "cell_type": "code",
   "execution_count": 24,
   "metadata": {},
   "outputs": [
    {
     "name": "stdout",
     "output_type": "stream",
     "text": [
      "10000\n",
      "V(Q) = -431.47\n",
      "20000\n",
      "V(Q) = -198.24\n",
      "30000\n",
      "V(Q) = -448.41\n",
      "40000\n",
      "V(Q) = -195.0\n",
      "50000\n",
      "V(Q) = -500.0\n",
      "60000\n",
      "V(Q) = -266.16\n",
      "70000\n",
      "V(Q) = -266.36\n",
      "80000\n",
      "V(Q) = -167.82\n"
     ]
    }
   ],
   "source": [
    "iterations_to_run = 10000\n",
    "iterations_total = 0\n",
    "best_score = -170.02\n",
    "pickle_count = 0\n",
    "meta_iteration_count = 1\n",
    "while(iterations_total < 100000):\n",
    "    Q, initial_state_Q_list, epsilon_decay_list = qLearningCar.qLearning_decay_learning_rate_2(\n",
    "        iterations, initial_alpha, final_alpha, epsilon, gamma, min_eps_before_decay\n",
    "    )\n",
    "    test_value = qLearningCar.execute(100)\n",
    "    \n",
    "    if(test_value > best_score):\n",
    "        best_score = test_value\n",
    "        pickle_out = open('Q_auto_' + str(pickle_count) + \"_\" + str(test_value) +'.pkl', 'wb')\n",
    "        pickle.dump(Q, pickle_out)\n",
    "        pickle_out.close()\n",
    "        pickle_count += 1\n",
    "        best_Q = Q\n",
    "        \n",
    "        # data = [[x, y] for (x, y) in zip(range(0, iterations), initial_state_Q_list)]\n",
    "        # table = wandb.Table(data=data, columns = [\"x\", \"y\"])\n",
    "        # wandb.log({\n",
    "        #     \"Q_train_\" + str(meta_iteration_count) : wandb.plot.line(table, \"x\", \"y\",\n",
    "        #         title=\"#Q train \" + str(meta_iteration_count))\n",
    "        # })\n",
    "    iterations_total += iterations_to_run\n",
    "    print(iterations_total)\n",
    "    print(\"V(Q) = \" + str(test_value))\n",
    "\n",
    "    meta_iteration_count += 1"
   ]
  },
  {
   "cell_type": "code",
   "execution_count": 16,
   "metadata": {},
   "outputs": [
    {
     "data": {
      "image/png": "[encoded data removed]",
      "text/plain": [
       "<Figure size 640x480 with 1 Axes>"
      ]
     },
     "metadata": {},
     "output_type": "display_data"
    }
   ],
   "source": [
    "import matplotlib.pyplot as plt\n",
    "plt.axhline(color='black')\n",
    "my_plot = plt.plot(range(0, iterations), initial_state_Q_list, color='blue')"
   ]
  },
  {
   "cell_type": "code",
   "execution_count": 17,
   "metadata": {},
   "outputs": [
    {
     "data": {
      "image/png": "[encoded data removed]",
      "text/plain": [
       "<Figure size 640x480 with 1 Axes>"
      ]
     },
     "metadata": {},
     "output_type": "display_data"
    }
   ],
   "source": [
    "import matplotlib.pyplot as plt\n",
    "plt.axhline(color='black')\n",
    "my_plot = plt.plot(range(0, iterations), qLearningCar.alpha_decay_list, color='blue')"
   ]
  },
  {
   "cell_type": "code",
   "execution_count": 18,
   "metadata": {},
   "outputs": [],
   "source": [
    "data = [[x, y] for (x, y) in zip(range(0, iterations), qLearningCar.alpha_decay_list)]\n",
    "table = wandb.Table(data=data, columns = [\"x\", \"y\"])\n",
    "wandb.log(\n",
    "    {\"Learning rate decay\" : wandb.plot.line(table, \"x\", \"y\",\n",
    "           title=\"Learning rate decay\")})"
   ]
  },
  {
   "cell_type": "code",
   "execution_count": 21,
   "metadata": {},
   "outputs": [],
   "source": [
    "#best_average = -500"
   ]
  },
  {
   "cell_type": "code",
   "execution_count": 22,
   "metadata": {},
   "outputs": [],
   "source": [
    "average = qLearningCar.execute(100)\n",
    "if(average > best_average):\n",
    "    best_average = average\n",
    "    best_Q = Q"
   ]
  },
  {
   "cell_type": "code",
   "execution_count": 23,
   "metadata": {},
   "outputs": [
    {
     "data": {
      "text/plain": [
       "-217.67"
      ]
     },
     "execution_count": 23,
     "metadata": {},
     "output_type": "execute_result"
    }
   ],
   "source": [
    "best_average"
   ]
  },
  {
   "cell_type": "code",
   "execution_count": 15,
   "metadata": {},
   "outputs": [
    {
     "data": {
      "text/plain": [
       "[-224.7,\n",
       " -283.05,\n",
       " -238.35,\n",
       " -419.75,\n",
       " -500.0,\n",
       " -209.32,\n",
       " -452.78,\n",
       " -287.49,\n",
       " -443.44,\n",
       " -212.16]"
      ]
     },
     "execution_count": 15,
     "metadata": {},
     "output_type": "execute_result"
    }
   ],
   "source": [
    "qLearningCar.rewards"
   ]
  },
  {
   "cell_type": "code",
   "execution_count": 16,
   "metadata": {},
   "outputs": [
    {
     "data": {
      "image/png": "[encoded data removed]",
      "text/plain": [
       "<Figure size 640x480 with 1 Axes>"
      ]
     },
     "metadata": {},
     "output_type": "display_data"
    }
   ],
   "source": [
    "import matplotlib.pyplot as plt\n",
    "plt.axhline(color='black')\n",
    "my_plot = plt.plot(range(0, len(qLearningCar.rewards)), qLearningCar.rewards, color='blue')"
   ]
  },
  {
   "cell_type": "code",
   "execution_count": 17,
   "metadata": {},
   "outputs": [],
   "source": [
    "data = [[x, y] for (x, y) in zip(range(0, len(qLearningCar.rewards)), qLearningCar.rewards)]\n",
    "table = wandb.Table(data=data, columns = [\"x\", \"y\"])\n",
    "wandb.log(\n",
    "    {\"Decay_alpha\" : wandb.plot.line(table, \"x\", \"y\",\n",
    "           title=\"Decay alpha\")})"
   ]
  },
  {
   "cell_type": "code",
   "execution_count": 19,
   "metadata": {},
   "outputs": [],
   "source": [
    "#tendria que subir la plot\n",
    "wandb.log({\"Decay alpha values\": qLearningCar.rewards})"
   ]
  },
  {
   "cell_type": "code",
   "execution_count": 20,
   "metadata": {},
   "outputs": [],
   "source": [
    "# log metrics to wandb --> these go on a separate table than the configuration in config.\n",
    "wandb.log({\n",
    "    \"iterations\": all_iterations, \n",
    "    \"alphas\": all_alphas, \n",
    "    \"epsilons\": all_epsilons, \n",
    "    \"gammas\": all_gammas, \n",
    "})"
   ]
  },
  {
   "cell_type": "code",
   "execution_count": 50,
   "metadata": {},
   "outputs": [],
   "source": [
    "wandb.log({\n",
    "    \"Iterations third run\": iterations_total \n",
    "})"
   ]
  },
  {
   "cell_type": "code",
   "execution_count": 21,
   "metadata": {},
   "outputs": [
    {
     "data": {
      "text/html": [
       "Waiting for W&B process to finish... <strong style=\"color:green\">(success).</strong>"
      ],
      "text/plain": [
       "<IPython.core.display.HTML object>"
      ]
     },
     "metadata": {},
     "output_type": "display_data"
    },
    {
     "data": {
      "text/html": [
       " View run <strong style=\"color:#cdcd00\">devoted-glitter-24</strong> at: <a href='https://wandb.ai/santiago-irazoqui/MountainCar/runs/573aflg0' target=\"_blank\">https://wandb.ai/santiago-irazoqui/MountainCar/runs/573aflg0</a><br/>Synced 5 W&B file(s), 1 media file(s), 1 artifact file(s) and 0 other file(s)"
      ],
      "text/plain": [
       "<IPython.core.display.HTML object>"
      ]
     },
     "metadata": {},
     "output_type": "display_data"
    },
    {
     "data": {
      "text/html": [
       "Find logs at: <code>.\\wandb\\run-20230709_235305-573aflg0\\logs</code>"
      ],
      "text/plain": [
       "<IPython.core.display.HTML object>"
      ]
     },
     "metadata": {},
     "output_type": "display_data"
    }
   ],
   "source": [
    "#finished uploading\n",
    "wandb.finish()"
   ]
  }
 ],
 "metadata": {
  "kernelspec": {
   "display_name": "Python 3",
   "language": "python",
   "name": "python3"
  },
  "language_info": {
   "codemirror_mode": {
    "name": "ipython",
    "version": 3
   },
   "file_extension": ".py",
   "mimetype": "text/x-python",
   "name": "python",
   "nbconvert_exporter": "python",
   "pygments_lexer": "ipython3",
   "version": "3.10.6"
  },
  "orig_nbformat": 4
 },
 "nbformat": 4,
 "nbformat_minor": 2
}
