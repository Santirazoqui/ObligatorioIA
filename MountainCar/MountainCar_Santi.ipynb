{
 "cells": [
  {
   "cell_type": "code",
   "execution_count": 36,
   "metadata": {},
   "outputs": [],
   "source": [
    "import wandb\n",
    "import pickle\n",
    "import numpy as np\n",
    "from MountainCarEnv import MountainCarEnv\n",
    "from QLearning import QLearning"
   ]
  },
  {
   "cell_type": "code",
   "execution_count": 37,
   "metadata": {},
   "outputs": [],
   "source": [
    "qLearningCar = QLearning(\"rgb_array\")"
   ]
  },
  {
   "cell_type": "code",
   "execution_count": 38,
   "metadata": {},
   "outputs": [],
   "source": [
    "all_iterations = []\n",
    "all_alphas = []\n",
    "all_epsilons = []\n",
    "all_gammas = []"
   ]
  },
  {
   "cell_type": "code",
   "execution_count": 1,
   "metadata": {},
   "outputs": [
    {
     "ename": "NameError",
     "evalue": "name 'all_iterations' is not defined",
     "output_type": "error",
     "traceback": [
      "\u001b[1;31m---------------------------------------------------------------------------\u001b[0m",
      "\u001b[1;31mNameError\u001b[0m                                 Traceback (most recent call last)",
      "\u001b[1;32mc:\\Users\\Irazo\\OneDrive\\Desktop\\Ira\\Facultad\\Semestre 7\\Inteligencia Artificial\\Obligatorio\\MountainCar\\MountainCar_Santi.ipynb Cell 4\u001b[0m in \u001b[0;36m<cell line: 2>\u001b[1;34m()\u001b[0m\n\u001b[0;32m      <a href='vscode-notebook-cell:/c%3A/Users/Irazo/OneDrive/Desktop/Ira/Facultad/Semestre%207/Inteligencia%20Artificial/Obligatorio/MountainCar/MountainCar_Santi.ipynb#W3sZmlsZQ%3D%3D?line=0'>1</a>\u001b[0m iterations \u001b[39m=\u001b[39m \u001b[39m50000\u001b[39m\n\u001b[1;32m----> <a href='vscode-notebook-cell:/c%3A/Users/Irazo/OneDrive/Desktop/Ira/Facultad/Semestre%207/Inteligencia%20Artificial/Obligatorio/MountainCar/MountainCar_Santi.ipynb#W3sZmlsZQ%3D%3D?line=1'>2</a>\u001b[0m all_iterations\u001b[39m.\u001b[39mappend(iterations)\n\u001b[0;32m      <a href='vscode-notebook-cell:/c%3A/Users/Irazo/OneDrive/Desktop/Ira/Facultad/Semestre%207/Inteligencia%20Artificial/Obligatorio/MountainCar/MountainCar_Santi.ipynb#W3sZmlsZQ%3D%3D?line=3'>4</a>\u001b[0m alpha \u001b[39m=\u001b[39m \u001b[39m0.1\u001b[39m \u001b[39m#learning_rate: variacion permitida\u001b[39;00m\n\u001b[0;32m      <a href='vscode-notebook-cell:/c%3A/Users/Irazo/OneDrive/Desktop/Ira/Facultad/Semestre%207/Inteligencia%20Artificial/Obligatorio/MountainCar/MountainCar_Santi.ipynb#W3sZmlsZQ%3D%3D?line=4'>5</a>\u001b[0m all_alphas\u001b[39m.\u001b[39mappend(alpha)\n",
      "\u001b[1;31mNameError\u001b[0m: name 'all_iterations' is not defined"
     ]
    }
   ],
   "source": [
    "iterations = 50000\n",
    "all_iterations.append(iterations)\n",
    "\n",
    "alpha = 0.1 #learning_rate: variacion permitida\n",
    "all_alphas.append(alpha)\n",
    "\n",
    "epsilon = 1 #exploration_rate:  más grande mas exploracion\n",
    "all_epsilons.append(epsilon)\n",
    "\n",
    "gamma = 0.99  #discount_factor: futuro - ¿¿¿learning rate???? - mas bajo mas greedy\n",
    "all_gammas.append(gamma)"
   ]
  },
  {
   "cell_type": "code",
   "execution_count": null,
   "metadata": {},
   "outputs": [],
   "source": [
    "max_exploration_rate = 1.0\n",
    "min_exploration_rate = 0.01\n",
    "exploration_decay_rate = 0.001"
   ]
  },
  {
   "cell_type": "code",
   "execution_count": 69,
   "metadata": {},
   "outputs": [
    {
     "name": "stdout",
     "output_type": "stream",
     "text": [
      "[0.99, 0.9, 0.8, 0.7, 0.5]\n",
      "[50000, 50000, 50000, 100000, 100000]\n"
     ]
    }
   ],
   "source": [
    "print(all_epsilons)\n",
    "print(all_iterations)"
   ]
  },
  {
   "cell_type": "code",
   "execution_count": 41,
   "metadata": {},
   "outputs": [],
   "source": [
    "divPos = qLearningCar.observation_space.shape[0]\n",
    "divVel = 10"
   ]
  },
  {
   "cell_type": "code",
   "execution_count": 42,
   "metadata": {},
   "outputs": [
    {
     "data": {
      "text/html": [
       "wandb version 0.15.5 is available!  To upgrade, please run:\n",
       " $ pip install wandb --upgrade"
      ],
      "text/plain": [
       "<IPython.core.display.HTML object>"
      ]
     },
     "metadata": {},
     "output_type": "display_data"
    },
    {
     "data": {
      "text/html": [
       "Tracking run with wandb version 0.15.3"
      ],
      "text/plain": [
       "<IPython.core.display.HTML object>"
      ]
     },
     "metadata": {},
     "output_type": "display_data"
    },
    {
     "data": {
      "text/html": [
       "Run data is saved locally in <code>c:\\Users\\Irazo\\OneDrive\\Desktop\\Ira\\Facultad\\Semestre 7\\Inteligencia Artificial\\Obligatorio\\MountainCar\\wandb\\run-20230707_130022-cwxgh6r5</code>"
      ],
      "text/plain": [
       "<IPython.core.display.HTML object>"
      ]
     },
     "metadata": {},
     "output_type": "display_data"
    },
    {
     "data": {
      "text/html": [
       "Syncing run <strong><a href='https://wandb.ai/santiago-irazoqui/MountainCar/runs/cwxgh6r5' target=\"_blank\">youthful-grass-14</a></strong> to <a href='https://wandb.ai/santiago-irazoqui/MountainCar' target=\"_blank\">Weights & Biases</a> (<a href='https://wandb.me/run' target=\"_blank\">docs</a>)<br/>"
      ],
      "text/plain": [
       "<IPython.core.display.HTML object>"
      ]
     },
     "metadata": {},
     "output_type": "display_data"
    },
    {
     "data": {
      "text/html": [
       " View project at <a href='https://wandb.ai/santiago-irazoqui/MountainCar' target=\"_blank\">https://wandb.ai/santiago-irazoqui/MountainCar</a>"
      ],
      "text/plain": [
       "<IPython.core.display.HTML object>"
      ]
     },
     "metadata": {},
     "output_type": "display_data"
    },
    {
     "data": {
      "text/html": [
       " View run at <a href='https://wandb.ai/santiago-irazoqui/MountainCar/runs/cwxgh6r5' target=\"_blank\">https://wandb.ai/santiago-irazoqui/MountainCar/runs/cwxgh6r5</a>"
      ],
      "text/plain": [
       "<IPython.core.display.HTML object>"
      ]
     },
     "metadata": {},
     "output_type": "display_data"
    },
    {
     "data": {
      "text/html": [
       "<button onClick=\"this.nextSibling.style.display='block';this.style.display='none';\">Display W&B run</button><iframe src='https://wandb.ai/santiago-irazoqui/MountainCar/runs/cwxgh6r5?jupyter=true' style='border:none;width:100%;height:420px;display:none;'></iframe>"
      ],
      "text/plain": [
       "<wandb.sdk.wandb_run.Run at 0x1dc0dfb5b40>"
      ]
     },
     "execution_count": 42,
     "metadata": {},
     "output_type": "execute_result"
    }
   ],
   "source": [
    "# start a new wandb run to track this script\n",
    "wandb.init(\n",
    "    # Dejar solo un proyecto\n",
    "    project=\"MountainCar\",\n",
    "    \n",
    "    # track hyperparameters and run metadata\n",
    "    config={\n",
    "        \"initial_alpha\": alpha,\n",
    "        \"initial_epsilon\": epsilon,\n",
    "        \"initial_gamma\": gamma,\n",
    "        \"Discretizacion_ Pos\": divPos,\n",
    "        \"Discretizacion_ Vos\": divVel,\n",
    "        \"max_exploration_rate\": max_exploration_rate,\n",
    "        \"max_exploration_rate\": min_exploration_rate,\n",
    "        \"max_exploration_rate\": exploration_decay_rate\n",
    "    }\n",
    ")"
   ]
  },
  {
   "cell_type": "code",
   "execution_count": 43,
   "metadata": {},
   "outputs": [],
   "source": [
    "#qLearningCar.discretizar(divPos, divVel) #pasar variables de discretizacion desde ipynb"
   ]
  },
  {
   "cell_type": "code",
   "execution_count": null,
   "metadata": {},
   "outputs": [],
   "source": [
    "pickle_in = open(\"Pickles\\Q_-349-Pos_33_Vel_11.pkl\",\"rb\")\n",
    "Old_Q = pickle.load(pickle_in)"
   ]
  },
  {
   "cell_type": "code",
   "execution_count": 45,
   "metadata": {},
   "outputs": [],
   "source": [
    "#qLearningCar.setQ(Old_Q)"
   ]
  },
  {
   "cell_type": "code",
   "execution_count": 70,
   "metadata": {},
   "outputs": [],
   "source": [
    "Q, initial_state_Q_list = qLearningCar.qLearning_bajar_epsilon_1(iterations, alpha, epsilon, gamma)"
   ]
  },
  {
   "cell_type": "code",
   "execution_count": 72,
   "metadata": {},
   "outputs": [
    {
     "data": {
      "image/png": "[encoded data removed]",
      "text/plain": [
       "<Figure size 640x480 with 1 Axes>"
      ]
     },
     "metadata": {},
     "output_type": "display_data"
    }
   ],
   "source": [
    "import matplotlib.pyplot as plt\n",
    "plt.axhline(color='black')\n",
    "my_plot = plt.plot(range(0, iterations), initial_state_Q_list, color='blue')"
   ]
  },
  {
   "cell_type": "code",
   "execution_count": 29,
   "metadata": {},
   "outputs": [],
   "source": [
    "data = [[x, y] for (x, y) in zip(range(0, iterations), initial_state_Q_list)]\n",
    "table = wandb.Table(data=data, columns = [\"x\", \"y\"])\n",
    "wandb.log(\n",
    "    {\"Decrease epislon Q_train_2\" : wandb.plot.line(table, \"x\", \"y\",\n",
    "           title=\"#Decrease epislon Q train 2\")})"
   ]
  },
  {
   "cell_type": "code",
   "execution_count": 73,
   "metadata": {},
   "outputs": [
    {
     "data": {
      "text/plain": [
       "-500.0"
      ]
     },
     "execution_count": 73,
     "metadata": {},
     "output_type": "execute_result"
    }
   ],
   "source": [
    "qLearningCar.execute(100)"
   ]
  },
  {
   "cell_type": "code",
   "execution_count": 74,
   "metadata": {},
   "outputs": [
    {
     "data": {
      "text/plain": [
       "[-340.62, -500.0, -500.0, -500.0, -500.0]"
      ]
     },
     "execution_count": 74,
     "metadata": {},
     "output_type": "execute_result"
    }
   ],
   "source": [
    "qLearningCar.rewards"
   ]
  },
  {
   "cell_type": "code",
   "execution_count": 75,
   "metadata": {},
   "outputs": [],
   "source": [
    "#tendria que subir la plot\n",
    "wandb.log({\"rewards\": qLearningCar.rewards})"
   ]
  },
  {
   "cell_type": "code",
   "execution_count": 76,
   "metadata": {},
   "outputs": [],
   "source": [
    "# log metrics to wandb --> these go on a separate table than the configuration in config.\n",
    "wandb.log({\n",
    "    \"iterations\": all_iterations, \n",
    "    \"alphas\": all_alphas, \n",
    "    \"epsilons\": all_epsilons, \n",
    "    \"gammas\": all_gammas, \n",
    "})"
   ]
  },
  {
   "cell_type": "code",
   "execution_count": 77,
   "metadata": {},
   "outputs": [
    {
     "data": {
      "text/html": [
       "Waiting for W&B process to finish... <strong style=\"color:green\">(success).</strong>"
      ],
      "text/plain": [
       "<IPython.core.display.HTML object>"
      ]
     },
     "metadata": {},
     "output_type": "display_data"
    },
    {
     "data": {
      "text/html": [
       " View run <strong style=\"color:#cdcd00\">youthful-grass-14</strong> at: <a href='https://wandb.ai/santiago-irazoqui/MountainCar/runs/cwxgh6r5' target=\"_blank\">https://wandb.ai/santiago-irazoqui/MountainCar/runs/cwxgh6r5</a><br/>Synced 5 W&B file(s), 0 media file(s), 0 artifact file(s) and 0 other file(s)"
      ],
      "text/plain": [
       "<IPython.core.display.HTML object>"
      ]
     },
     "metadata": {},
     "output_type": "display_data"
    },
    {
     "data": {
      "text/html": [
       "Find logs at: <code>.\\wandb\\run-20230707_130022-cwxgh6r5\\logs</code>"
      ],
      "text/plain": [
       "<IPython.core.display.HTML object>"
      ]
     },
     "metadata": {},
     "output_type": "display_data"
    }
   ],
   "source": [
    "#finished uploading\n",
    "wandb.finish()"
   ]
  },
  {
   "cell_type": "code",
   "execution_count": 35,
   "metadata": {},
   "outputs": [],
   "source": [
    "pickle_out = open('Q_after_decreasing_epsilon_1_-500.pkl', 'wb')\n",
    "pickle.dump(Q, pickle_out)\n",
    "pickle_out.close()"
   ]
  },
  {
   "cell_type": "code",
   "execution_count": 7,
   "metadata": {},
   "outputs": [
    {
     "name": "stdout",
     "output_type": "stream",
     "text": [
      "100000\n",
      "200000\n",
      "300000\n"
     ]
    }
   ],
   "source": [
    "iterations_to_run = 100000\n",
    "iterations_total = 0\n",
    "while(iterations_total < 1200000):\n",
    "    Q, initial_state_Q_list = qLearningCar.qLearning(iterations_to_run, alpha, epsilon, gamma)\n",
    "    test_value = qLearningCar.execute(100)\n",
    "    \n",
    "    if(test_value > -500):\n",
    "        pickle_out = open('Q_auto.pkl', 'wb')\n",
    "        pickle.dump(Q, pickle_out)\n",
    "        pickle_out.close()\n",
    "        break\n",
    "\n",
    "    iterations_total += iterations_to_run\n",
    "    print(iterations_total)\n",
    "\n",
    "    data = [[x, y] for (x, y) in zip(range(0, iterations), initial_state_Q_list)]\n",
    "    table = wandb.Table(data=data, columns = [\"x\", \"y\"])\n",
    "    wandb.log(\n",
    "        {\"Continued Q_train_1\" : wandb.plot.line(table, \"x\", \"y\",\n",
    "           title=\"#Continued 1 Q train\")\n",
    "        }\n",
    "    )"
   ]
  },
  {
   "cell_type": "code",
   "execution_count": 10,
   "metadata": {},
   "outputs": [
    {
     "data": {
      "text/plain": [
       "300000"
      ]
     },
     "execution_count": 10,
     "metadata": {},
     "output_type": "execute_result"
    }
   ],
   "source": [
    "wandb.log({\n",
    "    \"total iterations\": iterations_total \n",
    "})\n",
    "iterations_total"
   ]
  },
  {
   "cell_type": "code",
   "execution_count": 2,
   "metadata": {},
   "outputs": [],
   "source": [
    "list = []\n",
    "for i in range (100):\n",
    "    list.append(i)"
   ]
  }
 ],
 "metadata": {
  "kernelspec": {
   "display_name": "Python 3",
   "language": "python",
   "name": "python3"
  },
  "language_info": {
   "codemirror_mode": {
    "name": "ipython",
    "version": 3
   },
   "file_extension": ".py",
   "mimetype": "text/x-python",
   "name": "python",
   "nbconvert_exporter": "python",
   "pygments_lexer": "ipython3",
   "version": "3.10.6"
  },
  "orig_nbformat": 4
 },
 "nbformat": 4,
 "nbformat_minor": 2
}
