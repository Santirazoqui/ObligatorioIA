{
 "cells": [
  {
   "cell_type": "code",
   "execution_count": 1,
   "metadata": {},
   "outputs": [],
   "source": [
    "import numpy as np\n",
    "from MountainCarEnv import MountainCarEnv"
   ]
  },
  {
   "cell_type": "code",
   "execution_count": 2,
   "metadata": {},
   "outputs": [],
   "source": [
    "env = MountainCarEnv(render_mode=\"human\")"
   ]
  },
  {
   "cell_type": "code",
   "execution_count": 3,
   "metadata": {},
   "outputs": [],
   "source": [
    "def epsilon_greedy_policy(state, Q, epsilon=0.1):\n",
    "    explore = np.random.binomial(1, epsilon)\n",
    "    if explore:\n",
    "        action = env.action_space.sample()\n",
    "        print('explore')\n",
    "    # exploit\n",
    "    else:\n",
    "        action = np.argmax(Q[state])\n",
    "        print('exploit')\n",
    "    return action"
   ]
  },
  {
   "cell_type": "code",
   "execution_count": 4,
   "metadata": {},
   "outputs": [],
   "source": [
    "def optimal_policy(state, Q):\n",
    "    action = np.argmax(Q[state])\n",
    "    return action"
   ]
  },
  {
   "cell_type": "code",
   "execution_count": 5,
   "metadata": {},
   "outputs": [
    {
     "data": {
      "text/plain": [
       "array([-1.1       , -0.92222222, -0.74444444, -0.56666667, -0.38888889,\n",
       "       -0.21111111, -0.03333333,  0.14444444,  0.32222222,  0.5       ])"
      ]
     },
     "execution_count": 5,
     "metadata": {},
     "output_type": "execute_result"
    }
   ],
   "source": [
    "pos_space = np.linspace(-1.1, 0.5, 10)\n",
    "vel_space = np.linspace(-0.07, 0.07, 6)\n",
    "pos_space\n"
   ]
  },
  {
   "cell_type": "code",
   "execution_count": 6,
   "metadata": {},
   "outputs": [
    {
     "data": {
      "text/plain": [
       "array([-0.07 , -0.042, -0.014,  0.014,  0.042,  0.07 ])"
      ]
     },
     "execution_count": 6,
     "metadata": {},
     "output_type": "execute_result"
    }
   ],
   "source": [
    "vel_space"
   ]
  },
  {
   "cell_type": "code",
   "execution_count": 7,
   "metadata": {},
   "outputs": [],
   "source": [
    "def get_state(obs):\n",
    "    pos, vel = obs\n",
    "    pos_bin = np.digitize(pos, pos_space)\n",
    "    vel_bin = np.digitize(vel, vel_space)\n",
    "    return pos_bin, vel_bin"
   ]
  },
  {
   "cell_type": "code",
   "execution_count": 8,
   "metadata": {},
   "outputs": [],
   "source": [
    "pos_bin, vel_bin = get_state((-1.1, -0.07))"
   ]
  },
  {
   "cell_type": "code",
   "execution_count": 9,
   "metadata": {},
   "outputs": [
    {
     "data": {
      "text/plain": [
       "1"
      ]
     },
     "execution_count": 9,
     "metadata": {},
     "output_type": "execute_result"
    }
   ],
   "source": [
    "pos_bin"
   ]
  },
  {
   "cell_type": "code",
   "execution_count": 10,
   "metadata": {},
   "outputs": [
    {
     "data": {
      "text/plain": [
       "1"
      ]
     },
     "execution_count": 10,
     "metadata": {},
     "output_type": "execute_result"
    }
   ],
   "source": [
    "vel_bin"
   ]
  },
  {
   "cell_type": "code",
   "execution_count": 11,
   "metadata": {},
   "outputs": [
    {
     "data": {
      "text/plain": [
       "(4, 6)"
      ]
     },
     "execution_count": 11,
     "metadata": {},
     "output_type": "execute_result"
    }
   ],
   "source": [
    "state = get_state(np.array([-0.4, 0.2]))\n",
    "state"
   ]
  },
  {
   "cell_type": "code",
   "execution_count": 8,
   "metadata": {},
   "outputs": [
    {
     "data": {
      "text/plain": [
       "[0, 1, 2]"
      ]
     },
     "execution_count": 8,
     "metadata": {},
     "output_type": "execute_result"
    }
   ],
   "source": [
    "actions = list(range(env.action_space.n))\n",
    "actions"
   ]
  },
  {
   "cell_type": "code",
   "execution_count": null,
   "metadata": {},
   "outputs": [],
   "source": [
    "Q = np.zeros((11,3,3))\n",
    "Q"
   ]
  },
  {
   "cell_type": "code",
   "execution_count": null,
   "metadata": {},
   "outputs": [],
   "source": [
    "obs = env.reset()\n",
    "print(obs)\n",
    "done = False\n",
    "while not done:\n",
    "    state = get_state(obs)\n",
    "    action = epsilon_greedy_policy(state, Q, 0.5)\n",
    "    obs, reward, done, _ = env.step(action)\n",
    "    print('->', state, action, reward, obs, done)\n",
    "    env.render()"
   ]
  },
  {
   "attachments": {},
   "cell_type": "markdown",
   "metadata": {},
   "source": [
    "# cosas de internet"
   ]
  },
  {
   "cell_type": "code",
   "execution_count": 13,
   "metadata": {},
   "outputs": [
    {
     "data": {
      "text/plain": [
       "array([19, 15])"
      ]
     },
     "execution_count": 13,
     "metadata": {},
     "output_type": "execute_result"
    }
   ],
   "source": [
    "num_states = (env.observation_space.high - env.observation_space.low)*\\\n",
    "                    np.array([10, 100])\n",
    "num_states = np.round(num_states, 0).astype(int) + 1\n",
    "num_states"
   ]
  },
  {
   "cell_type": "code",
   "execution_count": 1,
   "metadata": {},
   "outputs": [
    {
     "data": {
      "text/plain": [
       "[20, 20]"
      ]
     },
     "execution_count": 1,
     "metadata": {},
     "output_type": "execute_result"
    }
   ],
   "source": [
    "lista = [20] * 2\n",
    "lista"
   ]
  },
  {
   "cell_type": "code",
   "execution_count": 4,
   "metadata": {},
   "outputs": [
    {
     "data": {
      "text/plain": [
       "[20, 20]"
      ]
     },
     "execution_count": 4,
     "metadata": {},
     "output_type": "execute_result"
    }
   ],
   "source": [
    "DISCRETE_OS_SIZE = [20] * len(env.observation_space.high)\n",
    "DISCRETE_OS_SIZE\n"
   ]
  },
  {
   "cell_type": "code",
   "execution_count": 5,
   "metadata": {},
   "outputs": [
    {
     "data": {
      "text/plain": [
       "array([0.09 , 0.007])"
      ]
     },
     "execution_count": 5,
     "metadata": {},
     "output_type": "execute_result"
    }
   ],
   "source": [
    "discrete_os_win_size = (env.observation_space.high - env.observation_space.low) / DISCRETE_OS_SIZE\n",
    "discrete_os_win_size"
   ]
  },
  {
   "cell_type": "code",
   "execution_count": 7,
   "metadata": {},
   "outputs": [
    {
     "data": {
      "text/plain": [
       "array([1.8000001, 0.14     ], dtype=float32)"
      ]
     },
     "execution_count": 7,
     "metadata": {},
     "output_type": "execute_result"
    }
   ],
   "source": [
    "(env.observation_space.high - env.observation_space.low)"
   ]
  },
  {
   "cell_type": "code",
   "execution_count": 13,
   "metadata": {},
   "outputs": [
    {
     "data": {
      "text/plain": [
       "array([5., 5.])"
      ]
     },
     "execution_count": 13,
     "metadata": {},
     "output_type": "execute_result"
    }
   ],
   "source": [
    "a = np.array([100, 100]) \n",
    "a / DISCRETE_OS_SIZE"
   ]
  },
  {
   "cell_type": "code",
   "execution_count": 6,
   "metadata": {},
   "outputs": [
    {
     "data": {
      "text/plain": [
       "array([[[-1.71966894, -1.22550192, -1.09837043],\n",
       "        [-0.38862546, -0.67841013, -0.89347137],\n",
       "        [-1.31999544, -0.1434014 , -1.39818642],\n",
       "        ...,\n",
       "        [-0.81804172, -0.63139274, -1.50627044],\n",
       "        [-1.2144762 , -0.19724916, -0.45545538],\n",
       "        [-1.2594207 , -0.04046355, -0.72119487]],\n",
       "\n",
       "       [[-1.65912775, -0.28561593, -0.48903066],\n",
       "        [-1.71024978, -1.89487581, -0.58478644],\n",
       "        [-0.5068032 , -1.31770965, -1.72804993],\n",
       "        ...,\n",
       "        [-1.48958278, -0.37242411, -1.15166729],\n",
       "        [-1.39798567, -0.12656022, -1.82107256],\n",
       "        [-1.85984532, -0.04009123, -1.9943087 ]],\n",
       "\n",
       "       [[-1.80873833, -0.02153282, -1.39830197],\n",
       "        [-0.54824191, -1.55881193, -0.29768752],\n",
       "        [-1.47512209, -0.90200176, -0.34170931],\n",
       "        ...,\n",
       "        [-1.49601083, -1.05829712, -1.51889538],\n",
       "        [-1.27050759, -0.10458277, -1.37407762],\n",
       "        [-0.35570218, -1.75938111, -0.56519119]],\n",
       "\n",
       "       ...,\n",
       "\n",
       "       [[-1.17500431, -0.94694098, -1.63746406],\n",
       "        [-0.79089564, -1.00520616, -1.20037492],\n",
       "        [-0.8821277 , -0.02352342, -0.440499  ],\n",
       "        ...,\n",
       "        [-0.94073082, -1.11140753, -0.75348182],\n",
       "        [-0.02553251, -1.91126006, -0.8126611 ],\n",
       "        [-1.91329516, -1.53585675, -0.40826901]],\n",
       "\n",
       "       [[-0.85719607, -1.37317184, -0.18196334],\n",
       "        [-1.08544455, -1.76298501, -0.65902925],\n",
       "        [-1.98626398, -0.10016738, -0.51679037],\n",
       "        ...,\n",
       "        [-0.07306216, -1.89219474, -0.96895316],\n",
       "        [-1.48313998, -0.76184708, -0.43053785],\n",
       "        [-0.60749055, -0.29144179, -0.32408215]],\n",
       "\n",
       "       [[-0.85884358, -0.11879789, -0.82261919],\n",
       "        [-0.92764125, -0.40553853, -1.52196026],\n",
       "        [-0.13246675, -0.51854618, -0.37720862],\n",
       "        ...,\n",
       "        [-0.96603735, -0.4706446 , -1.244512  ],\n",
       "        [-0.74639398, -0.62645568, -1.48902829],\n",
       "        [-1.96718751, -1.53087307, -1.09234848]]])"
      ]
     },
     "execution_count": 6,
     "metadata": {},
     "output_type": "execute_result"
    }
   ],
   "source": [
    "q_table = np.random.uniform(low=-2, high=0, size=(DISCRETE_OS_SIZE + [env.action_space.n]))\n",
    "q_table"
   ]
  }
 ],
 "metadata": {
  "kernelspec": {
   "display_name": "Python 3",
   "language": "python",
   "name": "python3"
  },
  "language_info": {
   "codemirror_mode": {
    "name": "ipython",
    "version": 3
   },
   "file_extension": ".py",
   "mimetype": "text/x-python",
   "name": "python",
   "nbconvert_exporter": "python",
   "pygments_lexer": "ipython3",
   "version": "3.10.6"
  },
  "orig_nbformat": 4
 },
 "nbformat": 4,
 "nbformat_minor": 2
}
