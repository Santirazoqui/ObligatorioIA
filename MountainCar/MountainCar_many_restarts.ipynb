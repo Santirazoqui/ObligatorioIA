{
 "cells": [
  {
   "cell_type": "code",
   "execution_count": 1,
   "metadata": {},
   "outputs": [],
   "source": [
    "import wandb\n",
    "import pickle\n",
    "import numpy as np\n",
    "from MountainCarEnv import MountainCarEnv\n",
    "from QLearning import QLearning"
   ]
  },
  {
   "cell_type": "code",
   "execution_count": 2,
   "metadata": {},
   "outputs": [],
   "source": [
    "qLearningCar = QLearning(\"rgb_array\")"
   ]
  },
  {
   "cell_type": "code",
   "execution_count": 3,
   "metadata": {},
   "outputs": [],
   "source": [
    "all_iterations = []\n",
    "all_alphas = []\n",
    "all_epsilons = []\n",
    "all_gammas = []"
   ]
  },
  {
   "cell_type": "code",
   "execution_count": 4,
   "metadata": {},
   "outputs": [],
   "source": [
    "iterations = 20000\n",
    "all_iterations.append(iterations)\n",
    "\n",
    "alpha = 0.1 #learning_rate: variacion permitida\n",
    "all_alphas.append(alpha)\n",
    "\n",
    "epsilon = 1 #exploration_rate:  más grande mas exploracion\n",
    "all_epsilons.append(epsilon)\n",
    "\n",
    "gamma = 0.99  #discount_factor: futuro - ¿¿¿learning rate???? - mas bajo mas greedy\n",
    "all_gammas.append(gamma)"
   ]
  },
  {
   "cell_type": "code",
   "execution_count": 5,
   "metadata": {},
   "outputs": [],
   "source": [
    "max_exploration_rate = 1.0\n",
    "min_exploration_rate = 0.01\n",
    "exploration_decay_rate = 0.001\n",
    "min_eps_before_decay = 1000"
   ]
  },
  {
   "cell_type": "code",
   "execution_count": 6,
   "metadata": {},
   "outputs": [
    {
     "name": "stdout",
     "output_type": "stream",
     "text": [
      "[1]\n",
      "[20000]\n"
     ]
    }
   ],
   "source": [
    "print(all_epsilons)\n",
    "print(all_iterations)"
   ]
  },
  {
   "cell_type": "code",
   "execution_count": 6,
   "metadata": {},
   "outputs": [],
   "source": [
    "divPos = qLearningCar.env.observation_space.shape[0] #2\n",
    "divVel = 10"
   ]
  },
  {
   "cell_type": "code",
   "execution_count": 7,
   "metadata": {},
   "outputs": [
    {
     "name": "stderr",
     "output_type": "stream",
     "text": [
      "Failed to detect the name of this notebook, you can set it manually with the WANDB_NOTEBOOK_NAME environment variable to enable code saving.\n",
      "\u001b[34m\u001b[1mwandb\u001b[0m: Currently logged in as: \u001b[33mirazoqui-santi\u001b[0m (\u001b[33msantiago-irazoqui\u001b[0m). Use \u001b[1m`wandb login --relogin`\u001b[0m to force relogin\n"
     ]
    },
    {
     "data": {
      "text/html": [
       "wandb version 0.15.5 is available!  To upgrade, please run:\n",
       " $ pip install wandb --upgrade"
      ],
      "text/plain": [
       "<IPython.core.display.HTML object>"
      ]
     },
     "metadata": {},
     "output_type": "display_data"
    },
    {
     "data": {
      "text/html": [
       "Tracking run with wandb version 0.15.3"
      ],
      "text/plain": [
       "<IPython.core.display.HTML object>"
      ]
     },
     "metadata": {},
     "output_type": "display_data"
    },
    {
     "data": {
      "text/html": [
       "Run data is saved locally in <code>c:\\Users\\Irazo\\OneDrive\\Desktop\\Ira\\Facultad\\Semestre 7\\Inteligencia Artificial\\Obligatorio\\MountainCar\\wandb\\run-20230709_222654-u5tt2d4y</code>"
      ],
      "text/plain": [
       "<IPython.core.display.HTML object>"
      ]
     },
     "metadata": {},
     "output_type": "display_data"
    },
    {
     "data": {
      "text/html": [
       "Syncing run <strong><a href='https://wandb.ai/santiago-irazoqui/MountainCar/runs/u5tt2d4y' target=\"_blank\">floral-moon-23</a></strong> to <a href='https://wandb.ai/santiago-irazoqui/MountainCar' target=\"_blank\">Weights & Biases</a> (<a href='https://wandb.me/run' target=\"_blank\">docs</a>)<br/>"
      ],
      "text/plain": [
       "<IPython.core.display.HTML object>"
      ]
     },
     "metadata": {},
     "output_type": "display_data"
    },
    {
     "data": {
      "text/html": [
       " View project at <a href='https://wandb.ai/santiago-irazoqui/MountainCar' target=\"_blank\">https://wandb.ai/santiago-irazoqui/MountainCar</a>"
      ],
      "text/plain": [
       "<IPython.core.display.HTML object>"
      ]
     },
     "metadata": {},
     "output_type": "display_data"
    },
    {
     "data": {
      "text/html": [
       " View run at <a href='https://wandb.ai/santiago-irazoqui/MountainCar/runs/u5tt2d4y' target=\"_blank\">https://wandb.ai/santiago-irazoqui/MountainCar/runs/u5tt2d4y</a>"
      ],
      "text/plain": [
       "<IPython.core.display.HTML object>"
      ]
     },
     "metadata": {},
     "output_type": "display_data"
    },
    {
     "data": {
      "text/html": [
       "<button onClick=\"this.nextSibling.style.display='block';this.style.display='none';\">Display W&B run</button><iframe src='https://wandb.ai/santiago-irazoqui/MountainCar/runs/u5tt2d4y?jupyter=true' style='border:none;width:100%;height:420px;display:none;'></iframe>"
      ],
      "text/plain": [
       "<wandb.sdk.wandb_run.Run at 0x28e4dcc6c20>"
      ]
     },
     "execution_count": 7,
     "metadata": {},
     "output_type": "execute_result"
    }
   ],
   "source": [
    "# start a new wandb run to track this script\n",
    "wandb.init(\n",
    "    # Dejar solo un proyecto\n",
    "    project=\"MountainCar\",\n",
    "    # track hyperparameters and run metadata\n",
    "    config={\n",
    "        \"initial_alpha\": alpha,\n",
    "        \"initial_epsilon\": epsilon,\n",
    "        \"initial_gamma\": gamma,\n",
    "        \"Discretizacion_Pos\": divPos,\n",
    "        \"Discretizacion_Vel\": divVel,\n",
    "        \"Min eps before decay epsilon\": min_eps_before_decay,\n",
    "        #\"max_exploration_rate\": max_exploration_rate,\n",
    "        #\"max_exploration_rate\": min_exploration_rate,\n",
    "        #\"max_exploration_rate\": exploration_decay_rate\n",
    "    }\n",
    ")"
   ]
  },
  {
   "cell_type": "code",
   "execution_count": 8,
   "metadata": {},
   "outputs": [],
   "source": [
    "#qLearningCar.discretizar(divPos, divVel) #pasar variables de discretizacion desde ipynb"
   ]
  },
  {
   "cell_type": "code",
   "execution_count": 19,
   "metadata": {},
   "outputs": [],
   "source": [
    "pickle_in = open(\"Pickles\\Q_auto_-170-Pos_2_Vel_10.pkl\",\"rb\")\n",
    "Old_Q = pickle.load(pickle_in)"
   ]
  },
  {
   "cell_type": "code",
   "execution_count": 20,
   "metadata": {},
   "outputs": [],
   "source": [
    "#qLearningCar.setQ(Old_Q)"
   ]
  },
  {
   "cell_type": "code",
   "execution_count": 22,
   "metadata": {},
   "outputs": [],
   "source": [
    "Q, initial_state_Q_list, epsilon_decay_list = qLearningCar.qLearning_bajar_epsilon_1(50000, alpha, epsilon, gamma, min_eps_before_decay)\n"
   ]
  },
  {
   "cell_type": "code",
   "execution_count": null,
   "metadata": {},
   "outputs": [],
   "source": [
    "iterations_to_run = 10000\n",
    "iterations_total = 0\n",
    "best_score = -500\n",
    "pickle_count = 0\n",
    "meta_iteration_count = 1\n",
    "while(meta_iteration_count < 10):\n",
    "    qLearningCar = QLearning(\"rgb_array\")\n",
    "    qLearningCar.discretizar(divPos, divVel)\n",
    "    Q, initial_state_Q_list, epsilon_decay_list = qLearningCar.qLearning_bajar_epsilon_1(iterations, alpha, epsilon, gamma, min_eps_before_decay)\n",
    "    test_value = qLearningCar.execute(100)\n",
    "    \n",
    "    if(test_value > best_score):\n",
    "        best_score = test_value\n",
    "        pickle_out = open('Q_many_resets_' + str(pickle_count) + \"_\" + str(test_value) +'.pkl', 'wb')\n",
    "        pickle.dump(Q, pickle_out)\n",
    "        pickle_out.close()\n",
    "        pickle_count += 1\n",
    "        best_Q = Q\n",
    "        \n",
    "        data = [[x, y] for (x, y) in zip(range(0, iterations_to_run), initial_state_Q_list)]\n",
    "        table = wandb.Table(data=data, columns = [\"x\", \"y\"])\n",
    "        wandb.log({\n",
    "            \"Q_train_\" + str(meta_iteration_count) : wandb.plot.line(table, \"x\", \"y\",\n",
    "                title=\"#Q train \" + str(meta_iteration_count))\n",
    "        })\n",
    "    iterations_total += iterations_to_run\n",
    "    print(iterations_total)\n",
    "    print(\"V(Q) = \" + str(test_value))\n",
    "    meta_iteration_count += 1"
   ]
  },
  {
   "cell_type": "code",
   "execution_count": 19,
   "metadata": {},
   "outputs": [
    {
     "data": {
      "image/png": "[encoded data removed]",
      "text/plain": [
       "<Figure size 640x480 with 1 Axes>"
      ]
     },
     "metadata": {},
     "output_type": "display_data"
    }
   ],
   "source": [
    "import matplotlib.pyplot as plt\n",
    "plt.axhline(color='black')\n",
    "my_plot = plt.plot(range(0, iterations), initial_state_Q_list, color='blue')"
   ]
  },
  {
   "cell_type": "code",
   "execution_count": 32,
   "metadata": {},
   "outputs": [
    {
     "data": {
      "image/png": "[encoded data removed]",
      "text/plain": [
       "<Figure size 640x480 with 1 Axes>"
      ]
     },
     "metadata": {},
     "output_type": "display_data"
    }
   ],
   "source": [
    "import matplotlib.pyplot as plt\n",
    "plt.axhline(color='black')\n",
    "my_plot = plt.plot(range(0, iterations), epsilon_decay_list, color='blue')"
   ]
  },
  {
   "cell_type": "code",
   "execution_count": 15,
   "metadata": {},
   "outputs": [],
   "source": [
    "aa = [-277.05,-202.03,-217.31,-178.49,-292.87,-226.89,-227.33,-500.0,-187.83]\n",
    "data = [[x, y] for (x, y) in zip(range(0, len(aa)), aa)]\n",
    "table = wandb.Table(data=data, columns = [\"x\", \"y\"])\n",
    "wandb.log(\n",
    "    {\"All new Q rewards\" : wandb.plot.line(table, \"x\", \"y\",\n",
    "           title=\"All new Q rewards\")})"
   ]
  },
  {
   "cell_type": "code",
   "execution_count": null,
   "metadata": {},
   "outputs": [],
   "source": [
    "#best_average = -500"
   ]
  },
  {
   "cell_type": "code",
   "execution_count": 13,
   "metadata": {},
   "outputs": [],
   "source": [
    "average = qLearningCar.execute(100)\n",
    "if(average > best_average):\n",
    "    best_average = average\n",
    "    best_Q = Q"
   ]
  },
  {
   "cell_type": "code",
   "execution_count": 16,
   "metadata": {},
   "outputs": [
    {
     "data": {
      "text/plain": [
       "-188.62"
      ]
     },
     "execution_count": 16,
     "metadata": {},
     "output_type": "execute_result"
    }
   ],
   "source": [
    "best_average"
   ]
  },
  {
   "cell_type": "code",
   "execution_count": 13,
   "metadata": {},
   "outputs": [
    {
     "data": {
      "text/plain": [
       "[-187.83]"
      ]
     },
     "execution_count": 13,
     "metadata": {},
     "output_type": "execute_result"
    }
   ],
   "source": [
    "qLearningCar.rewards"
   ]
  },
  {
   "cell_type": "code",
   "execution_count": null,
   "metadata": {},
   "outputs": [],
   "source": [
    "import matplotlib.pyplot as plt\n",
    "plt.axhline(color='black')\n",
    "my_plot = plt.plot(range(0, 20), qLearningCar.rewards, color='blue')"
   ]
  },
  {
   "cell_type": "code",
   "execution_count": 16,
   "metadata": {},
   "outputs": [],
   "source": [
    "data = [[x, y] for (x, y) in zip(range(0, 20), qLearningCar.rewards)]\n",
    "table = wandb.Table(data=data, columns = [\"x\", \"y\"])\n",
    "wandb.log(\n",
    "    {\"Smaller_batch_size\" : wandb.plot.line(table, \"x\", \"y\",\n",
    "           title=\"Smaller_batch_size\")})"
   ]
  },
  {
   "cell_type": "code",
   "execution_count": 15,
   "metadata": {},
   "outputs": [],
   "source": [
    "#tendria que subir la plot\n",
    "wandb.log({\"All rewards\": qLearningCar.rewards})"
   ]
  },
  {
   "cell_type": "code",
   "execution_count": 16,
   "metadata": {},
   "outputs": [],
   "source": [
    "# log metrics to wandb --> these go on a separate table than the configuration in config.\n",
    "wandb.log({\n",
    "    \"iterations\": all_iterations, \n",
    "    \"alphas\": all_alphas, \n",
    "    \"epsilons\": all_epsilons, \n",
    "    \"gammas\": all_gammas, \n",
    "})"
   ]
  },
  {
   "cell_type": "code",
   "execution_count": 17,
   "metadata": {},
   "outputs": [],
   "source": [
    "wandb.log({\n",
    "    \"Iterations total\": iterations_total \n",
    "})"
   ]
  },
  {
   "cell_type": "code",
   "execution_count": 18,
   "metadata": {},
   "outputs": [
    {
     "data": {
      "text/html": [
       "Waiting for W&B process to finish... <strong style=\"color:green\">(success).</strong>"
      ],
      "text/plain": [
       "<IPython.core.display.HTML object>"
      ]
     },
     "metadata": {},
     "output_type": "display_data"
    },
    {
     "data": {
      "text/html": [
       "<style>\n",
       "    table.wandb td:nth-child(1) { padding: 0 10px; text-align: left ; width: auto;} td:nth-child(2) {text-align: left ; width: 100%}\n",
       "    .wandb-row { display: flex; flex-direction: row; flex-wrap: wrap; justify-content: flex-start; width: 100% }\n",
       "    .wandb-col { display: flex; flex-direction: column; flex-basis: 100%; flex: 1; padding: 10px; }\n",
       "    </style>\n",
       "<div class=\"wandb-row\"><div class=\"wandb-col\"><h3>Run history:</h3><br/><table class=\"wandb\"><tr><td>Iterations total</td><td>▁</td></tr></table><br/></div><div class=\"wandb-col\"><h3>Run summary:</h3><br/><table class=\"wandb\"><tr><td>Iterations total</td><td>90000</td></tr></table><br/></div></div>"
      ],
      "text/plain": [
       "<IPython.core.display.HTML object>"
      ]
     },
     "metadata": {},
     "output_type": "display_data"
    },
    {
     "data": {
      "text/html": [
       " View run <strong style=\"color:#cdcd00\">floral-moon-23</strong> at: <a href='https://wandb.ai/santiago-irazoqui/MountainCar/runs/u5tt2d4y' target=\"_blank\">https://wandb.ai/santiago-irazoqui/MountainCar/runs/u5tt2d4y</a><br/>Synced 5 W&B file(s), 7 media file(s), 5 artifact file(s) and 0 other file(s)"
      ],
      "text/plain": [
       "<IPython.core.display.HTML object>"
      ]
     },
     "metadata": {},
     "output_type": "display_data"
    },
    {
     "data": {
      "text/html": [
       "Find logs at: <code>.\\wandb\\run-20230709_222654-u5tt2d4y\\logs</code>"
      ],
      "text/plain": [
       "<IPython.core.display.HTML object>"
      ]
     },
     "metadata": {},
     "output_type": "display_data"
    }
   ],
   "source": [
    "#finished uploading\n",
    "wandb.finish()"
   ]
  }
 ],
 "metadata": {
  "kernelspec": {
   "display_name": "Python 3",
   "language": "python",
   "name": "python3"
  },
  "language_info": {
   "codemirror_mode": {
    "name": "ipython",
    "version": 3
   },
   "file_extension": ".py",
   "mimetype": "text/x-python",
   "name": "python",
   "nbconvert_exporter": "python",
   "pygments_lexer": "ipython3",
   "version": "3.10.6"
  },
  "orig_nbformat": 4
 },
 "nbformat": 4,
 "nbformat_minor": 2
}
